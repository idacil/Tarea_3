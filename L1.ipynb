{
 "cells": [
  {
   "cell_type": "code",
   "execution_count": 1,
   "id": "c4080fae",
   "metadata": {},
   "outputs": [],
   "source": [
    "import tensorflow as tf\n",
    "import numpy as np\n",
    "from tensorflow import keras\n",
    "from tensorflow.keras.datasets import mnist\n",
    "from tensorflow.keras.models import Sequential\n",
    "from tensorflow.keras.layers import Dense, Dropout, Activation\n",
    "from tensorflow.keras.optimizers import RMSprop, SGD, Adam\n",
    "from tensorflow.keras import regularizers\n",
    "from keras.models import load_model\n",
    "from keras.callbacks import ModelCheckpoint\n",
    "from keras.layers import Dense\n",
    "from keras.models import Sequential\n",
    "from tensorflow.keras import regularizers\n",
    "\n",
    "\n",
    "\n",
    "dataset = mnist.load_data()\n",
    "(x_train, y_train), (x_test, y_test) = dataset\n",
    "\n",
    "x_trainv = x_train.reshape(60000, 784)\n",
    "x_testv = x_test.reshape(10000, 784)\n",
    "\n",
    "#Aquí se convierten a números de punto flotante 32 dígitos \n",
    "x_trainv = x_trainv.astype('float32')\n",
    "x_testv = x_testv.astype('float32')\n",
    "\n",
    "#ahora es posible normarlizarlos para obtener solo números del 0 al 1\n",
    "x_trainv /= 255  \n",
    "x_testv /= 255\n",
    "\n",
    "num_classes = 10\n",
    "\n",
    "#Se le asigna un \"vector binario\" a cada clase para los los datos y de train y test\n",
    "y_trainc = keras.utils.to_categorical(y_train, num_classes)\n",
    "y_testc = keras.utils.to_categorical(y_test, num_classes)"
   ]
  },
  {
   "cell_type": "code",
   "execution_count": 30,
   "id": "903f722e",
   "metadata": {},
   "outputs": [
    {
     "name": "stdout",
     "output_type": "stream",
     "text": [
      "Model: \"sequential_7\"\n",
      "_________________________________________________________________\n",
      " Layer (type)                Output Shape              Param #   \n",
      "=================================================================\n",
      " dense_45 (Dense)            (None, 600)               471000    \n",
      "                                                                 \n",
      " dense_46 (Dense)            (None, 50)                30050     \n",
      "                                                                 \n",
      " dense_47 (Dense)            (None, 600)               30600     \n",
      "                                                                 \n",
      " dense_48 (Dense)            (None, 50)                30050     \n",
      "                                                                 \n",
      " dense_49 (Dense)            (None, 600)               30600     \n",
      "                                                                 \n",
      " dense_50 (Dense)            (None, 10)                6010      \n",
      "                                                                 \n",
      "=================================================================\n",
      "Total params: 598310 (2.28 MB)\n",
      "Trainable params: 598310 (2.28 MB)\n",
      "Non-trainable params: 0 (0.00 Byte)\n",
      "_________________________________________________________________\n"
     ]
    }
   ],
   "source": [
    "#Aquí coloco algunos parámetros importantes\n",
    "learning_rate = 0.001\n",
    "epochs = 8\n",
    "batch_size = 120\n",
    "\n",
    "\n",
    "#AQUÍ SE IMPLEMENTA LA RED NEURONAL, EL MODELO\n",
    "\n",
    "#El modelo que se usará será secuencial, en capas apiladas una tras otra\n",
    "model = Sequential()\n",
    "\n",
    "#1ra Capa\n",
    "model.add(Dense(600, activation='relu', input_shape=(784,)))\n",
    "\n",
    "#2da Capa\n",
    "model.add(Dense(50, activation='sigmoid'))\n",
    "\n",
    "#3ra Capa\n",
    "model.add(Dense(600, activation='relu'))\n",
    "\n",
    "#4ta Capa\n",
    "model.add(Dense(50, activation='sigmoid'))\n",
    "\n",
    "#5ta Capa\n",
    "model.add(Dense(600, activation='relu'))\n",
    "\n",
    "#6ta Capa\n",
    "model.add(Dense(num_classes, activation='sigmoid'))\n",
    "\n",
    "\n",
    "#Imprimimos un resumen de la red que se está usando\n",
    "model.summary()"
   ]
  },
  {
   "cell_type": "code",
   "execution_count": 31,
   "id": "c858b0be",
   "metadata": {},
   "outputs": [
    {
     "name": "stdout",
     "output_type": "stream",
     "text": [
      "Epoch 1/8\n",
      "500/500 [==============================] - 4s 6ms/step - loss: 0.4553 - accuracy: 0.8620 - val_loss: 0.1683 - val_accuracy: 0.9493\n",
      "Epoch 2/8\n",
      "500/500 [==============================] - 3s 6ms/step - loss: 0.1335 - accuracy: 0.9603 - val_loss: 0.1247 - val_accuracy: 0.9622\n",
      "Epoch 3/8\n",
      "500/500 [==============================] - 3s 6ms/step - loss: 0.0845 - accuracy: 0.9755 - val_loss: 0.0953 - val_accuracy: 0.9726\n",
      "Epoch 4/8\n",
      "500/500 [==============================] - 3s 6ms/step - loss: 0.0607 - accuracy: 0.9819 - val_loss: 0.0931 - val_accuracy: 0.9731\n",
      "Epoch 5/8\n",
      "500/500 [==============================] - 3s 6ms/step - loss: 0.0462 - accuracy: 0.9862 - val_loss: 0.0888 - val_accuracy: 0.9765\n",
      "Epoch 6/8\n",
      "500/500 [==============================] - 3s 6ms/step - loss: 0.0365 - accuracy: 0.9886 - val_loss: 0.0793 - val_accuracy: 0.9793\n",
      "Epoch 7/8\n",
      "500/500 [==============================] - 3s 6ms/step - loss: 0.0324 - accuracy: 0.9901 - val_loss: 0.0832 - val_accuracy: 0.9770\n",
      "Epoch 8/8\n",
      "500/500 [==============================] - 3s 6ms/step - loss: 0.0298 - accuracy: 0.9908 - val_loss: 0.0896 - val_accuracy: 0.9771\n"
     ]
    }
   ],
   "source": [
    "model.compile(loss='categorical_crossentropy',optimizer = Adam(learning_rate=learning_rate),metrics=['accuracy'])\n",
    "\n",
    "\n",
    "history = model.fit(x_trainv, y_trainc,\n",
    "                    batch_size=batch_size,\n",
    "                    epochs=epochs,\n",
    "                    verbose=1,\n",
    "                    validation_data=(x_testv, y_testc)\n",
    "                    )\n"
   ]
  },
  {
   "cell_type": "code",
   "execution_count": 33,
   "id": "3727fe22",
   "metadata": {},
   "outputs": [],
   "source": [
    "model.save(\"red.keras\")\n"
   ]
  },
  {
   "cell_type": "code",
   "execution_count": 47,
   "id": "83ee6379",
   "metadata": {},
   "outputs": [
    {
     "name": "stdout",
     "output_type": "stream",
     "text": [
      "Model: \"sequential_7\"\n",
      "_________________________________________________________________\n",
      " Layer (type)                Output Shape              Param #   \n",
      "=================================================================\n",
      " dense_45 (Dense)            (None, 600)               471000    \n",
      "                                                                 \n",
      " dense_46 (Dense)            (None, 50)                30050     \n",
      "                                                                 \n",
      " dense_47 (Dense)            (None, 600)               30600     \n",
      "                                                                 \n",
      " dense_48 (Dense)            (None, 50)                30050     \n",
      "                                                                 \n",
      " dense_79 (Dense)            (None, 600)               30600     \n",
      "                                                                 \n",
      " dense_80 (Dense)            (None, 10)                6010      \n",
      "                                                                 \n",
      "=================================================================\n",
      "Total params: 598310 (2.28 MB)\n",
      "Trainable params: 598310 (2.28 MB)\n",
      "Non-trainable params: 0 (0.00 Byte)\n",
      "_________________________________________________________________\n"
     ]
    }
   ],
   "source": [
    "\n",
    "model = tf.keras.models.load_model('red.keras')\n",
    "model.pop()\n",
    "model.pop()\n",
    "model.add(Dense(600, activation='relu', kernel_regularizer = regularizers.L1(0.0001), input_shape=(784,)))\n",
    "model.add(Dense(num_classes, activation='sigmoid', kernel_regularizer = regularizers.L1(0.0001)))\n",
    "model.summary()\n",
    "\n",
    "model.compile(loss='categorical_crossentropy',optimizer = Adam(learning_rate=learning_rate),\n",
    "              metrics=['accuracy'])\n"
   ]
  },
  {
   "cell_type": "code",
   "execution_count": 48,
   "id": "178052c8",
   "metadata": {},
   "outputs": [
    {
     "name": "stdout",
     "output_type": "stream",
     "text": [
      "Epoch 1/8\n",
      "500/500 [==============================] - 4s 6ms/step - loss: 0.2125 - accuracy: 0.9878 - val_loss: 0.1675 - val_accuracy: 0.9812\n",
      "Epoch 2/8\n",
      "500/500 [==============================] - 3s 6ms/step - loss: 0.1022 - accuracy: 0.9942 - val_loss: 0.1491 - val_accuracy: 0.9792\n",
      "Epoch 3/8\n",
      "500/500 [==============================] - 3s 6ms/step - loss: 0.0868 - accuracy: 0.9939 - val_loss: 0.1359 - val_accuracy: 0.9807\n",
      "Epoch 4/8\n",
      "500/500 [==============================] - 3s 6ms/step - loss: 0.0725 - accuracy: 0.9950 - val_loss: 0.1307 - val_accuracy: 0.9792\n",
      "Epoch 5/8\n",
      "500/500 [==============================] - 3s 6ms/step - loss: 0.0618 - accuracy: 0.9956 - val_loss: 0.1326 - val_accuracy: 0.9784\n",
      "Epoch 6/8\n",
      "500/500 [==============================] - 3s 6ms/step - loss: 0.0544 - accuracy: 0.9964 - val_loss: 0.1348 - val_accuracy: 0.9767\n",
      "Epoch 7/8\n",
      "500/500 [==============================] - 3s 6ms/step - loss: 0.0489 - accuracy: 0.9960 - val_loss: 0.1075 - val_accuracy: 0.9823\n",
      "Epoch 8/8\n",
      "500/500 [==============================] - 3s 6ms/step - loss: 0.0418 - accuracy: 0.9970 - val_loss: 0.1024 - val_accuracy: 0.9823\n"
     ]
    }
   ],
   "source": [
    "history = model.fit(x_trainv, y_trainc,\n",
    "                    batch_size=batch_size,\n",
    "                    epochs=epochs,\n",
    "                    verbose=1,\n",
    "                    validation_data=(x_testv, y_testc))"
   ]
  },
  {
   "cell_type": "code",
   "execution_count": null,
   "id": "13b363c2",
   "metadata": {},
   "outputs": [],
   "source": []
  }
 ],
 "metadata": {
  "kernelspec": {
   "display_name": "Python 3 (ipykernel)",
   "language": "python",
   "name": "python3"
  },
  "language_info": {
   "codemirror_mode": {
    "name": "ipython",
    "version": 3
   },
   "file_extension": ".py",
   "mimetype": "text/x-python",
   "name": "python",
   "nbconvert_exporter": "python",
   "pygments_lexer": "ipython3",
   "version": "3.9.7"
  }
 },
 "nbformat": 4,
 "nbformat_minor": 5
}
