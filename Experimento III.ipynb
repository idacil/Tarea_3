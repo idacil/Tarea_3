{
 "cells": [
  {
   "cell_type": "code",
   "execution_count": 5,
   "id": "aa3bfb79",
   "metadata": {},
   "outputs": [],
   "source": [
    "import tensorflow as tf\n",
    "import numpy as np\n",
    "from tensorflow import keras\n",
    "from tensorflow.keras.datasets import mnist\n",
    "from tensorflow.keras.models import Sequential\n",
    "from tensorflow.keras.layers import Dense, Dropout, Activation\n",
    "from tensorflow.keras.optimizers import RMSprop, SGD, Adam\n",
    "from tensorflow.keras import regularizers"
   ]
  },
  {
   "cell_type": "code",
   "execution_count": 6,
   "id": "fb019bb3",
   "metadata": {},
   "outputs": [],
   "source": [
    "dataset = mnist.load_data()"
   ]
  },
  {
   "cell_type": "code",
   "execution_count": 7,
   "id": "81503733",
   "metadata": {},
   "outputs": [],
   "source": [
    "#Se hacen entontonces esas respectivas listas con nuevos nombres\n",
    "(x_train, y_train), (x_test, y_test) = dataset"
   ]
  },
  {
   "cell_type": "code",
   "execution_count": 8,
   "id": "9e4411d7",
   "metadata": {},
   "outputs": [],
   "source": [
    "#se transforma cada una de las listas en una \"imagen aplanada\", en un vector\n",
    "#se usa el comando \"nombre\".reshape(\"num de imagenes\", \"tamaño del vector\")\n",
    "x_trainv = x_train.reshape(60000, 784)\n",
    "x_testv = x_test.reshape(10000, 784)\n",
    "\n",
    "#Aquí se convierten a números de punto flotante 32 dígitos \n",
    "x_trainv = x_trainv.astype('float32')\n",
    "x_testv = x_testv.astype('float32')\n",
    "\n",
    "#ahora es posible normarlizarlos para obtener solo números del 0 al 1\n",
    "x_trainv /= 255  \n",
    "x_testv /= 255"
   ]
  },
  {
   "cell_type": "code",
   "execution_count": 9,
   "id": "041b54fc",
   "metadata": {},
   "outputs": [],
   "source": [
    "#Se crean las 10 clases distintas posibles a obtener (0,1,2,3,4,5,6,7,8,9)\n",
    "num_classes = 10\n",
    "\n",
    "#Se le asigna un \"vector binario\" a cada clase para los los datos y de train y test\n",
    "y_trainc = keras.utils.to_categorical(y_train, num_classes)\n",
    "y_testc = keras.utils.to_categorical(y_test, num_classes)"
   ]
  },
  {
   "cell_type": "code",
   "execution_count": 26,
   "id": "f06a3e4f",
   "metadata": {},
   "outputs": [
    {
     "name": "stdout",
     "output_type": "stream",
     "text": [
      "Model: \"sequential_7\"\n",
      "_________________________________________________________________\n",
      " Layer (type)                Output Shape              Param #   \n",
      "=================================================================\n",
      " dense_34 (Dense)            (None, 600)               471000    \n",
      "                                                                 \n",
      " dense_35 (Dense)            (None, 50)                30050     \n",
      "                                                                 \n",
      " dense_36 (Dense)            (None, 600)               30600     \n",
      "                                                                 \n",
      " dense_37 (Dense)            (None, 50)                30050     \n",
      "                                                                 \n",
      " dense_38 (Dense)            (None, 600)               30600     \n",
      "                                                                 \n",
      " dense_39 (Dense)            (None, 10)                6010      \n",
      "                                                                 \n",
      "=================================================================\n",
      "Total params: 598310 (2.28 MB)\n",
      "Trainable params: 598310 (2.28 MB)\n",
      "Non-trainable params: 0 (0.00 Byte)\n",
      "_________________________________________________________________\n"
     ]
    }
   ],
   "source": [
    "#Aquí coloco algunos parámetros importantes\n",
    "learning_rate = 0.001\n",
    "epochs = 8\n",
    "batch_size = 120\n",
    "\n",
    "\n",
    "#AQUÍ SE IMPLEMENTA LA RED NEURONAL, EL MODELO\n",
    "\n",
    "#El modelo que se usará será secuencial, en capas apiladas una tras otra\n",
    "model = Sequential()\n",
    "\n",
    "#1ra Capa\n",
    "model.add(Dense(600, activation='relu', input_shape=(784,)))\n",
    "\n",
    "#2da Capa\n",
    "model.add(Dense(50, activation='sigmoid', input_shape=(784,)))\n",
    "\n",
    "#3ra Capa\n",
    "model.add(Dense(600, activation='relu', input_shape=(784,)))\n",
    "\n",
    "#4ta Capa\n",
    "model.add(Dense(50, activation='sigmoid', input_shape=(784,)))\n",
    "\n",
    "#5ta Capa\n",
    "model.add(Dense(600, activation='relu', input_shape=(784,)))\n",
    "\n",
    "#6ta Capa\n",
    "model.add(Dense(num_classes, activation='sigmoid'))\n",
    "\n",
    "\n",
    "#Imprimimos un resumen de la red que se está usando\n",
    "model.summary()"
   ]
  },
  {
   "cell_type": "code",
   "execution_count": 24,
   "id": "8ad69560",
   "metadata": {},
   "outputs": [
    {
     "name": "stdout",
     "output_type": "stream",
     "text": [
      "Epoch 1/8\n",
      "500/500 [==============================] - 4s 6ms/step - loss: 0.4472 - accuracy: 0.8607 - val_loss: 0.1423 - val_accuracy: 0.9590\n",
      "Epoch 2/8\n",
      "500/500 [==============================] - 3s 6ms/step - loss: 0.1185 - accuracy: 0.9656 - val_loss: 0.1295 - val_accuracy: 0.9626\n",
      "Epoch 3/8\n",
      "500/500 [==============================] - 3s 6ms/step - loss: 0.0778 - accuracy: 0.9768 - val_loss: 0.0886 - val_accuracy: 0.9742\n",
      "Epoch 4/8\n",
      "500/500 [==============================] - 3s 6ms/step - loss: 0.0591 - accuracy: 0.9820 - val_loss: 0.0875 - val_accuracy: 0.9745\n",
      "Epoch 5/8\n",
      "500/500 [==============================] - 3s 6ms/step - loss: 0.0469 - accuracy: 0.9858 - val_loss: 0.0834 - val_accuracy: 0.9770\n",
      "Epoch 6/8\n",
      "500/500 [==============================] - 3s 6ms/step - loss: 0.0355 - accuracy: 0.9890 - val_loss: 0.0878 - val_accuracy: 0.9761\n",
      "Epoch 7/8\n",
      "500/500 [==============================] - 3s 6ms/step - loss: 0.0283 - accuracy: 0.9915 - val_loss: 0.0755 - val_accuracy: 0.9802\n",
      "Epoch 8/8\n",
      "500/500 [==============================] - 3s 6ms/step - loss: 0.0263 - accuracy: 0.9921 - val_loss: 0.0729 - val_accuracy: 0.9825\n"
     ]
    }
   ],
   "source": [
    "#Model.compile se utiliza para configurar la etapa de compilación de un modelo de red neuronal antes de entrenarlo.\n",
    "#Se coloca la función de costo, categorical_crossentropy para más de 2 clases o binary_crossentropy para 2 clases\n",
    "#Se coloca el optimizador, SGD, Adam, RSProp con su tasa de aprendizaje ya definida\n",
    "#Las métricas son medidas que se utilizan para evaluar el rendimiento del modelo durante el entrenamiento y la evaluación. \n",
    "#Puedes especificar una lista de métricas que deseas calcular, como precisión ('accuracy') o pérdida ('loss'). \n",
    "\n",
    "model.compile(loss='categorical_crossentropy',optimizer = Adam(learning_rate=learning_rate),metrics=['accuracy'])\n",
    "\n",
    "#Aquí entrenamos ya a la red, insertamos el vector de entrenamiento de cada imagen con su resultado y de entrenamiento \n",
    "#Colocamos el tamaño del minibatch\n",
    "#El número de épocas\n",
    "#Si se mostrará el progreso o no\n",
    "#Por último los datos de prueba, las entradas y salida para verificar la eficiencia etc.\n",
    "history = model.fit(x_trainv, y_trainc,\n",
    "                    batch_size=batch_size,\n",
    "                    epochs=epochs,\n",
    "                    verbose=1,\n",
    "                    validation_data=(x_testv, y_testc)\n",
    "                    )"
   ]
  },
  {
   "cell_type": "code",
   "execution_count": 25,
   "id": "88e8c646",
   "metadata": {},
   "outputs": [
    {
     "name": "stdout",
     "output_type": "stream",
     "text": [
      "313/313 [==============================] - 0s 1ms/step - loss: 0.0729 - accuracy: 0.9825\n",
      "eficiencia: [0.07285366952419281, 0.9825000166893005]\n"
     ]
    }
   ],
   "source": [
    "#Se evalua la eficiencia del modelo\n",
    "score = model.evaluate(x_testv, y_testc, verbose=1) \n",
    "print(\"eficiencia:\", score)"
   ]
  },
  {
   "cell_type": "code",
   "execution_count": null,
   "id": "9428df08",
   "metadata": {},
   "outputs": [],
   "source": []
  }
 ],
 "metadata": {
  "kernelspec": {
   "display_name": "Python 3 (ipykernel)",
   "language": "python",
   "name": "python3"
  },
  "language_info": {
   "codemirror_mode": {
    "name": "ipython",
    "version": 3
   },
   "file_extension": ".py",
   "mimetype": "text/x-python",
   "name": "python",
   "nbconvert_exporter": "python",
   "pygments_lexer": "ipython3",
   "version": "3.9.7"
  }
 },
 "nbformat": 4,
 "nbformat_minor": 5
}
