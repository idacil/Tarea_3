{
 "cells": [
  {
   "cell_type": "code",
   "execution_count": 1,
   "id": "23bf4942",
   "metadata": {},
   "outputs": [],
   "source": [
    "import tensorflow as tf\n",
    "import numpy as np\n",
    "from tensorflow import keras\n",
    "from tensorflow.keras.datasets import mnist\n",
    "from tensorflow.keras.models import Sequential\n",
    "from tensorflow.keras.layers import Dense, Dropout, Activation\n",
    "from tensorflow.keras.optimizers import RMSprop, SGD, Adam\n",
    "from tensorflow.keras import regularizers"
   ]
  },
  {
   "cell_type": "code",
   "execution_count": 2,
   "id": "df047854",
   "metadata": {},
   "outputs": [],
   "source": [
    "dataset = mnist.load_data()"
   ]
  },
  {
   "cell_type": "code",
   "execution_count": 9,
   "id": "f0570d5e",
   "metadata": {},
   "outputs": [],
   "source": [
    "#Se hacen entontonces esas respectivas listas con nuevos nombres\n",
    "(x_train, y_train), (x_test, y_test) = dataset"
   ]
  },
  {
   "cell_type": "code",
   "execution_count": 10,
   "id": "b95494fa",
   "metadata": {},
   "outputs": [],
   "source": [
    "#se transforma cada una de las listas en una \"imagen aplanada\", en un vector\n",
    "#se usa el comando \"nombre\".reshape(\"num de imagenes\", \"tamaño del vector\")\n",
    "x_trainv = x_train.reshape(60000, 784)\n",
    "x_testv = x_test.reshape(10000, 784)\n",
    "\n",
    "#Aquí se convierten a números de punto flotante 32 dígitos \n",
    "x_trainv = x_trainv.astype('float32')\n",
    "x_testv = x_testv.astype('float32')\n",
    "\n",
    "#ahora es posible normarlizarlos para obtener solo números del 0 al 1\n",
    "x_trainv /= 255  \n",
    "x_testv /= 255"
   ]
  },
  {
   "cell_type": "code",
   "execution_count": 11,
   "id": "bf63c753",
   "metadata": {},
   "outputs": [],
   "source": [
    "#Se crean las 10 clases distintas posibles a obtener (0,1,2,3,4,5,6,7,8,9)\n",
    "num_classes = 10\n",
    "\n",
    "#Se le asigna un \"vector binario\" a cada clase para los los datos y de train y test\n",
    "y_trainc = keras.utils.to_categorical(y_train, num_classes)\n",
    "y_testc = keras.utils.to_categorical(y_test, num_classes)"
   ]
  },
  {
   "cell_type": "code",
   "execution_count": 30,
   "id": "d5b83873",
   "metadata": {},
   "outputs": [
    {
     "name": "stdout",
     "output_type": "stream",
     "text": [
      "Model: \"sequential_11\"\n",
      "_________________________________________________________________\n",
      " Layer (type)                Output Shape              Param #   \n",
      "=================================================================\n",
      " dense_26 (Dense)            (None, 250)               196250    \n",
      "                                                                 \n",
      " dense_27 (Dense)            (None, 250)               62750     \n",
      "                                                                 \n",
      " dense_28 (Dense)            (None, 10)                2510      \n",
      "                                                                 \n",
      "=================================================================\n",
      "Total params: 261510 (1021.52 KB)\n",
      "Trainable params: 261510 (1021.52 KB)\n",
      "Non-trainable params: 0 (0.00 Byte)\n",
      "_________________________________________________________________\n"
     ]
    }
   ],
   "source": [
    "#Aquí coloco algunos parámetros importantes\n",
    "learning_rate = 0.001\n",
    "epochs = 8\n",
    "batch_size = 120\n",
    "\n",
    "\n",
    "#AQUÍ SE IMPLEMENTA LA RED NEURONAL, EL MODELO\n",
    "\n",
    "#El modelo que se usará será secuencial, en capas apiladas una tras otra\n",
    "model = Sequential()\n",
    "\n",
    "#1ra Capa\n",
    "model.add(Dense(250, activation='sigmoid', input_shape=(784,)))\n",
    "\n",
    "#2da Capa\n",
    "model.add(Dense(250, activation='sigmoid', input_shape=(784,)))\n",
    "\n",
    "#3ra Capa\n",
    "model.add(Dense(num_classes, activation='sigmoid'))\n",
    "\n",
    "\n",
    "#Imprimimos un resumen de la red que se está usando\n",
    "model.summary()"
   ]
  },
  {
   "cell_type": "code",
   "execution_count": 32,
   "id": "c638232a",
   "metadata": {},
   "outputs": [
    {
     "name": "stdout",
     "output_type": "stream",
     "text": [
      "Epoch 1/8\n",
      "500/500 [==============================] - 2s 3ms/step - loss: 0.0478 - accuracy: 0.9858 - val_loss: 0.0877 - val_accuracy: 0.9719\n",
      "Epoch 2/8\n",
      "500/500 [==============================] - 1s 3ms/step - loss: 0.0379 - accuracy: 0.9887 - val_loss: 0.0738 - val_accuracy: 0.9770\n",
      "Epoch 3/8\n",
      "500/500 [==============================] - 1s 3ms/step - loss: 0.0302 - accuracy: 0.9911 - val_loss: 0.0738 - val_accuracy: 0.9770\n",
      "Epoch 4/8\n",
      "500/500 [==============================] - 1s 3ms/step - loss: 0.0252 - accuracy: 0.9924 - val_loss: 0.0728 - val_accuracy: 0.9779\n",
      "Epoch 5/8\n",
      "500/500 [==============================] - 1s 3ms/step - loss: 0.0198 - accuracy: 0.9948 - val_loss: 0.0770 - val_accuracy: 0.9783\n",
      "Epoch 6/8\n",
      "500/500 [==============================] - 1s 3ms/step - loss: 0.0165 - accuracy: 0.9955 - val_loss: 0.0710 - val_accuracy: 0.9789\n",
      "Epoch 7/8\n",
      "500/500 [==============================] - 1s 3ms/step - loss: 0.0128 - accuracy: 0.9967 - val_loss: 0.0732 - val_accuracy: 0.9791\n",
      "Epoch 8/8\n",
      "500/500 [==============================] - 1s 3ms/step - loss: 0.0101 - accuracy: 0.9977 - val_loss: 0.0747 - val_accuracy: 0.9788\n"
     ]
    }
   ],
   "source": [
    "#Model.compile se utiliza para configurar la etapa de compilación de un modelo de red neuronal antes de entrenarlo.\n",
    "#Se coloca la función de costo, categorical_crossentropy para más de 2 clases o binary_crossentropy para 2 clases\n",
    "#Se coloca el optimizador, SGD, Adam, RSProp con su tasa de aprendizaje ya definida\n",
    "#Las métricas son medidas que se utilizan para evaluar el rendimiento del modelo durante el entrenamiento y la evaluación. \n",
    "#Puedes especificar una lista de métricas que deseas calcular, como precisión ('accuracy') o pérdida ('loss'). \n",
    "\n",
    "model.compile(loss='categorical_crossentropy',optimizer = Adam(learning_rate=learning_rate),metrics=['accuracy'])\n",
    "\n",
    "#Aquí entrenamos ya a la red, insertamos el vector de entrenamiento de cada imagen con su resultado y de entrenamiento \n",
    "#Colocamos el tamaño del minibatch\n",
    "#El número de épocas\n",
    "#Si se mostrará el progreso o no\n",
    "#Por último los datos de prueba, las entradas y salida para verificar la eficiencia etc.\n",
    "history = model.fit(x_trainv, y_trainc,\n",
    "                    batch_size=batch_size,\n",
    "                    epochs=epochs,\n",
    "                    verbose=1,\n",
    "                    validation_data=(x_testv, y_testc)\n",
    "                    )"
   ]
  },
  {
   "cell_type": "code",
   "execution_count": 33,
   "id": "1d9b3634",
   "metadata": {},
   "outputs": [
    {
     "name": "stdout",
     "output_type": "stream",
     "text": [
      "313/313 [==============================] - 0s 891us/step - loss: 0.0747 - accuracy: 0.9788\n",
      "eficiencia: [0.07467710226774216, 0.9787999987602234]\n"
     ]
    }
   ],
   "source": [
    "#Se evalua la eficiencia del modelo\n",
    "score = model.evaluate(x_testv, y_testc, verbose=1) \n",
    "print(\"eficiencia:\", score)"
   ]
  },
  {
   "cell_type": "code",
   "execution_count": null,
   "id": "c6d1a80f",
   "metadata": {},
   "outputs": [],
   "source": []
  }
 ],
 "metadata": {
  "kernelspec": {
   "display_name": "Python 3 (ipykernel)",
   "language": "python",
   "name": "python3"
  },
  "language_info": {
   "codemirror_mode": {
    "name": "ipython",
    "version": 3
   },
   "file_extension": ".py",
   "mimetype": "text/x-python",
   "name": "python",
   "nbconvert_exporter": "python",
   "pygments_lexer": "ipython3",
   "version": "3.9.7"
  }
 },
 "nbformat": 4,
 "nbformat_minor": 5
}
