{
 "cells": [
  {
   "cell_type": "code",
   "execution_count": 1,
   "id": "448f7711",
   "metadata": {},
   "outputs": [],
   "source": [
    "import tensorflow as tf\n",
    "import numpy as np\n",
    "from tensorflow import keras\n",
    "from tensorflow.keras.datasets import mnist\n",
    "from tensorflow.keras.models import Sequential\n",
    "from tensorflow.keras.layers import Dense, Dropout, Activation\n",
    "from tensorflow.keras.optimizers import RMSprop, SGD, Adam\n",
    "from tensorflow.keras import regularizers\n",
    "from keras.models import load_model\n",
    "from keras.callbacks import ModelCheckpoint\n",
    "from keras.layers import Dense\n",
    "from keras.models import Sequential\n",
    "from tensorflow.keras import regularizers\n",
    "\n",
    "\n",
    "\n",
    "dataset = mnist.load_data()\n",
    "(x_train, y_train), (x_test, y_test) = dataset\n",
    "\n",
    "x_trainv = x_train.reshape(60000, 784)\n",
    "x_testv = x_test.reshape(10000, 784)\n",
    "\n",
    "#Aquí se convierten a números de punto flotante 32 dígitos \n",
    "x_trainv = x_trainv.astype('float32')\n",
    "x_testv = x_testv.astype('float32')\n",
    "\n",
    "#ahora es posible normarlizarlos para obtener solo números del 0 al 1\n",
    "x_trainv /= 255  \n",
    "x_testv /= 255\n",
    "\n",
    "num_classes = 10\n",
    "\n",
    "#Se le asigna un \"vector binario\" a cada clase para los los datos y de train y test\n",
    "y_trainc = keras.utils.to_categorical(y_train, num_classes)\n",
    "y_testc = keras.utils.to_categorical(y_test, num_classes)"
   ]
  },
  {
   "cell_type": "code",
   "execution_count": 2,
   "id": "cd28907a",
   "metadata": {},
   "outputs": [
    {
     "name": "stdout",
     "output_type": "stream",
     "text": [
      "Model: \"sequential\"\n",
      "_________________________________________________________________\n",
      " Layer (type)                Output Shape              Param #   \n",
      "=================================================================\n",
      " dense (Dense)               (None, 600)               471000    \n",
      "                                                                 \n",
      " dense_1 (Dense)             (None, 50)                30050     \n",
      "                                                                 \n",
      " dense_2 (Dense)             (None, 600)               30600     \n",
      "                                                                 \n",
      " dense_3 (Dense)             (None, 50)                30050     \n",
      "                                                                 \n",
      " dense_4 (Dense)             (None, 600)               30600     \n",
      "                                                                 \n",
      " dense_5 (Dense)             (None, 10)                6010      \n",
      "                                                                 \n",
      "=================================================================\n",
      "Total params: 598310 (2.28 MB)\n",
      "Trainable params: 598310 (2.28 MB)\n",
      "Non-trainable params: 0 (0.00 Byte)\n",
      "_________________________________________________________________\n"
     ]
    }
   ],
   "source": [
    "#Aquí coloco algunos parámetros importantes\n",
    "learning_rate = 0.001\n",
    "epochs = 8\n",
    "batch_size = 120\n",
    "\n",
    "\n",
    "#AQUÍ SE IMPLEMENTA LA RED NEURONAL, EL MODELO\n",
    "\n",
    "#El modelo que se usará será secuencial, en capas apiladas una tras otra\n",
    "model = Sequential()\n",
    "\n",
    "#1ra Capa\n",
    "model.add(Dense(600, activation='relu', input_shape=(784,)))\n",
    "\n",
    "#2da Capa\n",
    "model.add(Dense(50, activation='sigmoid'))\n",
    "\n",
    "#3ra Capa\n",
    "model.add(Dense(600, activation='relu'))\n",
    "\n",
    "#4ta Capa\n",
    "model.add(Dense(50, activation='sigmoid'))\n",
    "\n",
    "#5ta Capa\n",
    "model.add(Dense(600, activation='relu'))\n",
    "\n",
    "#6ta Capa\n",
    "model.add(Dense(num_classes, activation='sigmoid'))\n",
    "\n",
    "\n",
    "#Imprimimos un resumen de la red que se está usando\n",
    "model.summary()"
   ]
  },
  {
   "cell_type": "code",
   "execution_count": 5,
   "id": "b1ff279d",
   "metadata": {},
   "outputs": [
    {
     "name": "stdout",
     "output_type": "stream",
     "text": [
      "Model: \"sequential_1\"\n",
      "_________________________________________________________________\n",
      " Layer (type)                Output Shape              Param #   \n",
      "=================================================================\n",
      " dense (Dense)               (None, 600)               471000    \n",
      "                                                                 \n",
      " dense_1 (Dense)             (None, 50)                30050     \n",
      "                                                                 \n",
      " dense_2 (Dense)             (None, 600)               30600     \n",
      "                                                                 \n",
      " dense_3 (Dense)             (None, 50)                30050     \n",
      "                                                                 \n",
      " dense_6 (Dense)             (None, 600)               30600     \n",
      "                                                                 \n",
      " dense_7 (Dense)             (None, 10)                6010      \n",
      "                                                                 \n",
      "=================================================================\n",
      "Total params: 598310 (2.28 MB)\n",
      "Trainable params: 598310 (2.28 MB)\n",
      "Non-trainable params: 0 (0.00 Byte)\n",
      "_________________________________________________________________\n"
     ]
    }
   ],
   "source": [
    "nuevo_modelo = Sequential(model.layers[:-2])\n",
    "from keras.layers import Dense\n",
    "from keras.models import Sequential\n",
    "from keras.regularizers import l2\n",
    "\n",
    "nuevo_modelo.add(Dense(600, activation='relu', kernel_regularizer=l2(0.05), input_shape=(784,)))\n",
    "\n",
    "nuevo_modelo.add(Dense(num_classes, activation='sigmoid'))\n",
    "\n",
    "nuevo_modelo.summary()"
   ]
  },
  {
   "cell_type": "code",
   "execution_count": 3,
   "id": "20beb118",
   "metadata": {},
   "outputs": [
    {
     "name": "stdout",
     "output_type": "stream",
     "text": [
      "Epoch 1/8\n",
      "500/500 [==============================] - 4s 6ms/step - loss: 0.4263 - accuracy: 0.8702 - val_loss: 0.1421 - val_accuracy: 0.9582\n",
      "Epoch 2/8\n",
      "500/500 [==============================] - 3s 6ms/step - loss: 0.1203 - accuracy: 0.9643 - val_loss: 0.1011 - val_accuracy: 0.9706\n",
      "Epoch 3/8\n",
      "500/500 [==============================] - 3s 6ms/step - loss: 0.0821 - accuracy: 0.9750 - val_loss: 0.0932 - val_accuracy: 0.9717\n",
      "Epoch 4/8\n",
      "500/500 [==============================] - 3s 6ms/step - loss: 0.0573 - accuracy: 0.9826 - val_loss: 0.0885 - val_accuracy: 0.9737\n",
      "Epoch 5/8\n",
      "500/500 [==============================] - 3s 6ms/step - loss: 0.0451 - accuracy: 0.9862 - val_loss: 0.0802 - val_accuracy: 0.9780\n",
      "Epoch 6/8\n",
      "500/500 [==============================] - 3s 6ms/step - loss: 0.0371 - accuracy: 0.9887 - val_loss: 0.0957 - val_accuracy: 0.9754\n",
      "Epoch 7/8\n",
      "500/500 [==============================] - 3s 6ms/step - loss: 0.0304 - accuracy: 0.9906 - val_loss: 0.0925 - val_accuracy: 0.9759\n",
      "Epoch 8/8\n",
      "500/500 [==============================] - 3s 6ms/step - loss: 0.0255 - accuracy: 0.9919 - val_loss: 0.0975 - val_accuracy: 0.9754\n"
     ]
    }
   ],
   "source": [
    "model.compile(loss='categorical_crossentropy',optimizer = Adam(learning_rate=learning_rate),metrics=['accuracy'])\n",
    "\n",
    "\n",
    "history = model.fit(x_trainv, y_trainc,\n",
    "                    batch_size=batch_size,\n",
    "                    epochs=epochs,\n",
    "                    verbose=1,\n",
    "                    validation_data=(x_testv, y_testc)\n",
    "                    )"
   ]
  },
  {
   "cell_type": "code",
   "execution_count": 5,
   "id": "44e5db40",
   "metadata": {},
   "outputs": [],
   "source": [
    "model.save(\"red2.keras\")\n"
   ]
  },
  {
   "cell_type": "code",
   "execution_count": 7,
   "id": "2f66a4f9",
   "metadata": {},
   "outputs": [
    {
     "name": "stdout",
     "output_type": "stream",
     "text": [
      "Model: \"sequential\"\n",
      "_________________________________________________________________\n",
      " Layer (type)                Output Shape              Param #   \n",
      "=================================================================\n",
      " dense (Dense)               (None, 600)               471000    \n",
      "                                                                 \n",
      " dense_1 (Dense)             (None, 50)                30050     \n",
      "                                                                 \n",
      " dense_2 (Dense)             (None, 600)               30600     \n",
      "                                                                 \n",
      " dense_3 (Dense)             (None, 50)                30050     \n",
      "                                                                 \n",
      " dense_8 (Dense)             (None, 600)               30600     \n",
      "                                                                 \n",
      " dense_9 (Dense)             (None, 10)                6010      \n",
      "                                                                 \n",
      "=================================================================\n",
      "Total params: 598310 (2.28 MB)\n",
      "Trainable params: 598310 (2.28 MB)\n",
      "Non-trainable params: 0 (0.00 Byte)\n",
      "_________________________________________________________________\n"
     ]
    }
   ],
   "source": [
    "model = tf.keras.models.load_model('red2.keras')\n",
    "model.pop()\n",
    "model.pop()\n",
    "model.add(Dense(600, activation='relu', kernel_regularizer = regularizers.L2(0.0001), input_shape=(784,)))\n",
    "model.add(Dense(num_classes, activation='sigmoid', kernel_regularizer = regularizers.L2(0.0001)))\n",
    "model.summary()\n",
    "\n",
    "model.compile(loss='categorical_crossentropy',optimizer = Adam(learning_rate=learning_rate),\n",
    "              metrics=['accuracy'])"
   ]
  },
  {
   "cell_type": "code",
   "execution_count": 8,
   "id": "25fb4c97",
   "metadata": {},
   "outputs": [
    {
     "name": "stdout",
     "output_type": "stream",
     "text": [
      "Epoch 1/8\n",
      "500/500 [==============================] - 4s 6ms/step - loss: 0.0963 - accuracy: 0.9860 - val_loss: 0.1019 - val_accuracy: 0.9784\n",
      "Epoch 2/8\n",
      "500/500 [==============================] - 3s 6ms/step - loss: 0.0350 - accuracy: 0.9934 - val_loss: 0.0901 - val_accuracy: 0.9811\n",
      "Epoch 3/8\n",
      "500/500 [==============================] - 3s 6ms/step - loss: 0.0315 - accuracy: 0.9942 - val_loss: 0.0937 - val_accuracy: 0.9802\n",
      "Epoch 4/8\n",
      "500/500 [==============================] - 3s 6ms/step - loss: 0.0264 - accuracy: 0.9952 - val_loss: 0.1097 - val_accuracy: 0.9764\n",
      "Epoch 5/8\n",
      "500/500 [==============================] - 3s 6ms/step - loss: 0.0293 - accuracy: 0.9942 - val_loss: 0.0948 - val_accuracy: 0.9787\n",
      "Epoch 6/8\n",
      "500/500 [==============================] - 3s 6ms/step - loss: 0.0230 - accuracy: 0.9955 - val_loss: 0.1106 - val_accuracy: 0.9765\n",
      "Epoch 7/8\n",
      "500/500 [==============================] - 3s 6ms/step - loss: 0.0213 - accuracy: 0.9962 - val_loss: 0.1036 - val_accuracy: 0.9773\n",
      "Epoch 8/8\n",
      "500/500 [==============================] - 3s 6ms/step - loss: 0.0190 - accuracy: 0.9967 - val_loss: 0.0894 - val_accuracy: 0.9817\n"
     ]
    }
   ],
   "source": [
    "history = model.fit(x_trainv, y_trainc,\n",
    "                    batch_size=batch_size,\n",
    "                    epochs=epochs,\n",
    "                    verbose=1,\n",
    "                    validation_data=(x_testv, y_testc))"
   ]
  },
  {
   "cell_type": "code",
   "execution_count": null,
   "id": "dae7cac7",
   "metadata": {},
   "outputs": [],
   "source": []
  }
 ],
 "metadata": {
  "kernelspec": {
   "display_name": "Python 3 (ipykernel)",
   "language": "python",
   "name": "python3"
  },
  "language_info": {
   "codemirror_mode": {
    "name": "ipython",
    "version": 3
   },
   "file_extension": ".py",
   "mimetype": "text/x-python",
   "name": "python",
   "nbconvert_exporter": "python",
   "pygments_lexer": "ipython3",
   "version": "3.9.7"
  }
 },
 "nbformat": 4,
 "nbformat_minor": 5
}
