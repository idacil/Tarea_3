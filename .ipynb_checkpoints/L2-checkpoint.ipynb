{
 "cells": [
  {
   "cell_type": "code",
   "execution_count": 1,
   "id": "448f7711",
   "metadata": {},
   "outputs": [],
   "source": [
    "import tensorflow as tf\n",
    "import numpy as np\n",
    "from tensorflow import keras\n",
    "from tensorflow.keras.datasets import mnist\n",
    "from tensorflow.keras.models import Sequential\n",
    "from tensorflow.keras.layers import Dense, Dropout, Activation\n",
    "from tensorflow.keras.optimizers import RMSprop, SGD, Adam\n",
    "from tensorflow.keras import regularizers\n",
    "\n",
    "dataset = mnist.load_data()\n",
    "(x_train, y_train), (x_test, y_test) = dataset\n",
    "\n",
    "x_trainv = x_train.reshape(60000, 784)\n",
    "x_testv = x_test.reshape(10000, 784)\n",
    "\n",
    "#Aquí se convierten a números de punto flotante 32 dígitos \n",
    "x_trainv = x_trainv.astype('float32')\n",
    "x_testv = x_testv.astype('float32')\n",
    "\n",
    "#ahora es posible normarlizarlos para obtener solo números del 0 al 1\n",
    "x_trainv /= 255  \n",
    "x_testv /= 255\n",
    "\n",
    "num_classes = 10\n",
    "\n",
    "#Se le asigna un \"vector binario\" a cada clase para los los datos y de train y test\n",
    "y_trainc = keras.utils.to_categorical(y_train, num_classes)\n",
    "y_testc = keras.utils.to_categorical(y_test, num_classes)"
   ]
  },
  {
   "cell_type": "code",
   "execution_count": 26,
   "id": "68a98747",
   "metadata": {},
   "outputs": [
    {
     "name": "stdout",
     "output_type": "stream",
     "text": [
      "Model: \"sequential_1\"\n",
      "_________________________________________________________________\n",
      " Layer (type)                Output Shape              Param #   \n",
      "=================================================================\n",
      " dense_12 (Dense)            (None, 600)               471000    \n",
      "                                                                 \n",
      " dense_13 (Dense)            (None, 50)                30050     \n",
      "                                                                 \n",
      " dense_14 (Dense)            (None, 600)               30600     \n",
      "                                                                 \n",
      " dense_15 (Dense)            (None, 50)                30050     \n",
      "                                                                 \n",
      " dense_16 (Dense)            (None, 600)               30600     \n",
      "                                                                 \n",
      " dense_17 (Dense)            (None, 10)                6010      \n",
      "                                                                 \n",
      "=================================================================\n",
      "Total params: 598310 (2.28 MB)\n",
      "Trainable params: 598310 (2.28 MB)\n",
      "Non-trainable params: 0 (0.00 Byte)\n",
      "_________________________________________________________________\n"
     ]
    }
   ],
   "source": [
    "#Aquí coloco algunos parámetros importantes\n",
    "learning_rate = 0.001\n",
    "epochs = 8\n",
    "batch_size = 120\n",
    "\n",
    "\n",
    "#AQUÍ SE IMPLEMENTA LA RED NEURONAL, EL MODELO\n",
    "\n",
    "#El modelo que se usará será secuencial, en capas apiladas una tras otra\n",
    "model = Sequential()\n",
    "\n",
    "#1ra Capa\n",
    "model.add(Dense(600, activation='relu', input_shape=(784,)))\n",
    "\n",
    "#2da Capa\n",
    "model.add(Dense(50, activation='sigmoid', input_shape=(784,)))\n",
    "\n",
    "#3ra Capa\n",
    "model.add(Dense(600, activation='relu', input_shape=(784,)))\n",
    "\n",
    "#4ta Capa\n",
    "model.add(Dense(50, activation='sigmoid', input_shape=(784,)))\n",
    "\n",
    "#5ta Capa\n",
    "model.add(Dense(600, activation='relu', input_shape=(784,)))\n",
    "\n",
    "#6ta Capa\n",
    "model.add(Dense(num_classes, activation='sigmoid'))\n",
    "\n",
    "\n",
    "#Imprimimos un resumen de la red que se está usando\n",
    "model.summary()"
   ]
  },
  {
   "cell_type": "code",
   "execution_count": 27,
   "id": "0973d87c",
   "metadata": {},
   "outputs": [
    {
     "name": "stdout",
     "output_type": "stream",
     "text": [
      "Epoch 1/8\n",
      "500/500 [==============================] - 4s 6ms/step - loss: 0.4414 - accuracy: 0.8683 - val_loss: 0.1571 - val_accuracy: 0.9548\n",
      "Epoch 2/8\n",
      "500/500 [==============================] - 3s 6ms/step - loss: 0.1244 - accuracy: 0.9636 - val_loss: 0.1094 - val_accuracy: 0.9678\n",
      "Epoch 3/8\n",
      "500/500 [==============================] - 3s 6ms/step - loss: 0.0805 - accuracy: 0.9761 - val_loss: 0.0989 - val_accuracy: 0.9721\n",
      "Epoch 4/8\n",
      "500/500 [==============================] - 3s 6ms/step - loss: 0.0606 - accuracy: 0.9819 - val_loss: 0.0916 - val_accuracy: 0.9726\n",
      "Epoch 5/8\n",
      "500/500 [==============================] - 3s 6ms/step - loss: 0.0455 - accuracy: 0.9865 - val_loss: 0.1181 - val_accuracy: 0.9686\n",
      "Epoch 6/8\n",
      "500/500 [==============================] - 3s 6ms/step - loss: 0.0373 - accuracy: 0.9887 - val_loss: 0.0862 - val_accuracy: 0.9777\n",
      "Epoch 7/8\n",
      "500/500 [==============================] - 3s 6ms/step - loss: 0.0320 - accuracy: 0.9903 - val_loss: 0.0819 - val_accuracy: 0.9778\n",
      "Epoch 8/8\n",
      "500/500 [==============================] - 3s 6ms/step - loss: 0.0270 - accuracy: 0.9917 - val_loss: 0.0846 - val_accuracy: 0.9790\n"
     ]
    }
   ],
   "source": [
    "model.compile(loss='categorical_crossentropy',optimizer = Adam(learning_rate=learning_rate),metrics=['accuracy'])\n",
    "\n",
    "\n",
    "history = model.fit(x_trainv, y_trainc,\n",
    "                    batch_size=batch_size,\n",
    "                    epochs=epochs,\n",
    "                    verbose=1,\n",
    "                    validation_data=(x_testv, y_testc)\n",
    "                    )"
   ]
  },
  {
   "cell_type": "code",
   "execution_count": 31,
   "id": "cd28907a",
   "metadata": {},
   "outputs": [],
   "source": [
    "from keras.callbacks import ModelCheckpoint\n",
    "\n",
    "#Para guardar el modelo en disco\n",
    "checkpoint = ModelCheckpoint(\"red.keras\", save_best_only=False)"
   ]
  },
  {
   "cell_type": "code",
   "execution_count": 64,
   "id": "b1ff279d",
   "metadata": {},
   "outputs": [
    {
     "name": "stdout",
     "output_type": "stream",
     "text": [
      "Model: \"sequential_18\"\n",
      "_________________________________________________________________\n",
      " Layer (type)                Output Shape              Param #   \n",
      "=================================================================\n",
      " dense_12 (Dense)            (None, 600)               471000    \n",
      "                                                                 \n",
      " dense_13 (Dense)            (None, 50)                30050     \n",
      "                                                                 \n",
      " dense_14 (Dense)            (None, 600)               30600     \n",
      "                                                                 \n",
      " dense_15 (Dense)            (None, 50)                30050     \n",
      "                                                                 \n",
      " dense_46 (Dense)            (None, 600)               30600     \n",
      "                                                                 \n",
      " dense_47 (Dense)            (None, 10)                6010      \n",
      "                                                                 \n",
      "=================================================================\n",
      "Total params: 598310 (2.28 MB)\n",
      "Trainable params: 598310 (2.28 MB)\n",
      "Non-trainable params: 0 (0.00 Byte)\n",
      "_________________________________________________________________\n"
     ]
    }
   ],
   "source": [
    "nuevo_modelo = Sequential(model.layers[:-2])\n",
    "from keras.layers import Dense\n",
    "from keras.models import Sequential\n",
    "from keras.regularizers import l1\n",
    "\n",
    "nuevo_modelo.add(Dense(600, activation='relu', kernel_regularizer=l1(0.05), input_shape=(784,)))\n",
    "\n",
    "nuevo_modelo.add(Dense(num_classes, activation='sigmoid'))\n",
    "\n",
    "nuevo_modelo.summary()"
   ]
  },
  {
   "cell_type": "code",
   "execution_count": 65,
   "id": "20beb118",
   "metadata": {},
   "outputs": [
    {
     "name": "stdout",
     "output_type": "stream",
     "text": [
      "Epoch 1/8\n",
      "500/500 [==============================] - 4s 6ms/step - loss: 6.7104 - accuracy: 0.8285 - val_loss: 1.2236 - val_accuracy: 0.9807\n",
      "Epoch 2/8\n",
      "500/500 [==============================] - 3s 6ms/step - loss: 0.9491 - accuracy: 0.9984 - val_loss: 0.8710 - val_accuracy: 0.9824\n",
      "Epoch 3/8\n",
      "500/500 [==============================] - 3s 6ms/step - loss: 0.7426 - accuracy: 0.9992 - val_loss: 0.7424 - val_accuracy: 0.9823\n",
      "Epoch 4/8\n",
      "500/500 [==============================] - 3s 6ms/step - loss: 0.6299 - accuracy: 0.9995 - val_loss: 0.6733 - val_accuracy: 0.9798\n",
      "Epoch 5/8\n",
      "500/500 [==============================] - 3s 6ms/step - loss: 0.5650 - accuracy: 0.9994 - val_loss: 0.6228 - val_accuracy: 0.9800\n",
      "Epoch 6/8\n",
      "500/500 [==============================] - 3s 6ms/step - loss: 0.5185 - accuracy: 0.9996 - val_loss: 0.5775 - val_accuracy: 0.9817\n",
      "Epoch 7/8\n",
      "500/500 [==============================] - 3s 6ms/step - loss: 0.4868 - accuracy: 0.9992 - val_loss: 0.5513 - val_accuracy: 0.9816\n",
      "Epoch 8/8\n",
      "500/500 [==============================] - 3s 6ms/step - loss: 0.4614 - accuracy: 0.9991 - val_loss: 0.5253 - val_accuracy: 0.9820\n"
     ]
    },
    {
     "data": {
      "text/plain": [
       "<keras.src.callbacks.History at 0x184bdc101c0>"
      ]
     },
     "execution_count": 65,
     "metadata": {},
     "output_type": "execute_result"
    }
   ],
   "source": [
    "nuevo_modelo.compile(loss='categorical_crossentropy',optimizer = Adam(learning_rate=learning_rate),metrics=['accuracy'])\n",
    "\n",
    "nuevo_modelo.fit(x_trainv, y_trainc,\n",
    "                    batch_size=batch_size,\n",
    "                    epochs=epochs,\n",
    "                    verbose=1,\n",
    "                    validation_data=(x_testv, y_testc)\n",
    "                    )"
   ]
  },
  {
   "cell_type": "code",
   "execution_count": null,
   "id": "44e5db40",
   "metadata": {},
   "outputs": [],
   "source": []
  }
 ],
 "metadata": {
  "kernelspec": {
   "display_name": "Python 3 (ipykernel)",
   "language": "python",
   "name": "python3"
  },
  "language_info": {
   "codemirror_mode": {
    "name": "ipython",
    "version": 3
   },
   "file_extension": ".py",
   "mimetype": "text/x-python",
   "name": "python",
   "nbconvert_exporter": "python",
   "pygments_lexer": "ipython3",
   "version": "3.9.7"
  }
 },
 "nbformat": 4,
 "nbformat_minor": 5
}
